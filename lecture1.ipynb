{
 "cells": [
  {
   "cell_type": "markdown",
   "metadata": {},
   "source": [
    "# Lecture 1. Randomized Quicksort and Karger's min-cut"
   ]
  },
  {
   "cell_type": "markdown",
   "metadata": {},
   "source": [
    "## Links:\n",
    "### https://www.youtube.com/watch?v=sXHr3CDAeWE&list=PLOQjlWvnI0faRpH2oJcyW4CuM5Clt8a2n"
   ]
  },
  {
   "cell_type": "markdown",
   "metadata": {},
   "source": [
    "## Randomized Quicksort"
   ]
  },
  {
   "cell_type": "code",
   "execution_count": 1,
   "metadata": {},
   "outputs": [],
   "source": [
    "import copy\n",
    "import random\n",
    "from collections import defaultdict"
   ]
  },
  {
   "cell_type": "code",
   "execution_count": 2,
   "metadata": {},
   "outputs": [],
   "source": [
    "def RQS(array):\n",
    "    # O(nlogn) time (in expectation)\n",
    "    # O(n) memory\n",
    "\n",
    "    n = len(array)\n",
    "\n",
    "    # base cases\n",
    "    if n == 0:\n",
    "        return []\n",
    "    elif n == 1:\n",
    "        return array\n",
    "    elif n == 2:\n",
    "        if array[0] <= array[1]:\n",
    "            return array\n",
    "        else:\n",
    "            return array[::-1]\n",
    "    else:\n",
    "        # choose a pivot uar\n",
    "        pivot_idx = random.randint(0, n-1)\n",
    "        pivot = array[pivot_idx]\n",
    "        L = []\n",
    "        R = []\n",
    "\n",
    "        # break array in two:\n",
    "        # L for the elements < pivot\n",
    "        # R for the elements >= pivot\n",
    "        for i in range(n):\n",
    "            if i != pivot_idx:\n",
    "                if array[i] < pivot:\n",
    "                    L.append(array[i])\n",
    "                else:\n",
    "                    R.append(array[i])\n",
    "        \n",
    "        # solve L and R recursively\n",
    "        L = RQS(L)\n",
    "        R = RQS(R)\n",
    "        \n",
    "        return L + [pivot] + R"
   ]
  },
  {
   "cell_type": "markdown",
   "metadata": {},
   "source": [
    "### Tests"
   ]
  },
  {
   "cell_type": "code",
   "execution_count": 3,
   "metadata": {},
   "outputs": [
    {
     "data": {
      "text/plain": [
       "[0, 1, 2, 3, 4, 5]"
      ]
     },
     "execution_count": 3,
     "metadata": {},
     "output_type": "execute_result"
    }
   ],
   "source": [
    "input0 = [0,1,2,3,4,5]\n",
    "RQS(input0)"
   ]
  },
  {
   "cell_type": "code",
   "execution_count": 4,
   "metadata": {},
   "outputs": [
    {
     "data": {
      "text/plain": [
       "[0, 1, 2, 3, 4, 5]"
      ]
     },
     "execution_count": 4,
     "metadata": {},
     "output_type": "execute_result"
    }
   ],
   "source": [
    "input1 = [5,4,3,2,1,0]\n",
    "RQS(input1)"
   ]
  },
  {
   "cell_type": "code",
   "execution_count": 5,
   "metadata": {},
   "outputs": [
    {
     "name": "stdout",
     "output_type": "stream",
     "text": [
      "[2, 3, 1, 4, 0]\n"
     ]
    },
    {
     "data": {
      "text/plain": [
       "[0, 1, 2, 3, 4]"
      ]
     },
     "execution_count": 5,
     "metadata": {},
     "output_type": "execute_result"
    }
   ],
   "source": [
    "# test on a random sample of size=size, sampled from the integer interval [left_lim, right_lim-1]\n",
    "size = 5\n",
    "left_lim = 0\n",
    "right_lim = 5\n",
    "input2 = random.sample(range(left_lim, right_lim), size)\n",
    "print(input2)\n",
    "\n",
    "RQS(input2)"
   ]
  },
  {
   "cell_type": "markdown",
   "metadata": {},
   "source": [
    "## Randomized min-cut (Karger's algorithm)"
   ]
  },
  {
   "cell_type": "markdown",
   "metadata": {},
   "source": [
    "### Graph definition"
   ]
  },
  {
   "cell_type": "code",
   "execution_count": 6,
   "metadata": {},
   "outputs": [],
   "source": [
    "# Definition of graph (non-directed connected weighted graph)\n",
    "class graph:\n",
    "    # O(m) space, m = # edges\n",
    "    def __init__(self):\n",
    "        self.size = 0\n",
    "        self.weights = defaultdict(lambda: defaultdict(list))\n",
    "        self.nodes = set()\n",
    "        \n",
    "    def add_edge(self, edge):\n",
    "        # O(1) time and memory\n",
    "        a = edge[0]\n",
    "        b = edge[1]\n",
    "        w = edge[2]\n",
    "        \n",
    "        # add nodes\n",
    "        self.nodes.add(a)\n",
    "        self.nodes.add(b)\n",
    "        \n",
    "        # add edge to edges\n",
    "        self.weights[a][b].append(w)\n",
    "        self.weights[b][a].append(w)\n",
    "            \n",
    "        # increase size\n",
    "        self.size += 1\n",
    "        \n",
    "    def contract_edges(self, a, b):\n",
    "        # O(m) time and O(1) memory\n",
    "        \n",
    "        # remove larger node\n",
    "        contracted, to_remove = min(a,b), max(a,b)\n",
    "        \n",
    "        # decrease size\n",
    "        self.size -= len(self.weights[to_remove][contracted])\n",
    "        \n",
    "        # remove node from nodes set\n",
    "        self.nodes.remove(to_remove)\n",
    "        \n",
    "        # for every neighbor of the node to remove\n",
    "        for node in self.weights[to_remove]:\n",
    "            # transfer every edge to contracted edge\n",
    "            if node != contracted:\n",
    "                self.weights[contracted][node] += self.weights[to_remove][node]\n",
    "                self.weights[node][contracted] += self.weights[to_remove][node]\n",
    "                    \n",
    "            # remove all edges to removing node\n",
    "            del self.weights[node][to_remove]\n",
    "                \n",
    "        # remove all edges from removing node\n",
    "        del self.weights[to_remove]\n",
    "    \n",
    "    def print_state(self):\n",
    "        # O(1) time and memory\n",
    "        print(self.size)\n",
    "        print(self.nodes)\n",
    "        print(self.weights)\n",
    "        \n",
    "    def get_weight(self):\n",
    "        # O(m) time and O(1) memory\n",
    "        output = 0\n",
    "        for u in self.weights:\n",
    "            for v in self.weights[u]:\n",
    "                output += sum(self.weights[u][v])\n",
    "                \n",
    "        return output/2.0\n",
    "    \n",
    "    def sample_edge(self):\n",
    "        # O(1) time and memory\n",
    "        # choose a node uar\n",
    "        u = random.sample(self.nodes, 1)[0]\n",
    "        \n",
    "        # choose a second node uar from neighbors of u\n",
    "        v = random.sample(self.weights[u].keys(), 1)[0]\n",
    "        \n",
    "        return [u,v]"
   ]
  },
  {
   "cell_type": "markdown",
   "metadata": {},
   "source": [
    "#### test graph"
   ]
  },
  {
   "cell_type": "code",
   "execution_count": 7,
   "metadata": {
    "scrolled": true
   },
   "outputs": [
    {
     "name": "stdout",
     "output_type": "stream",
     "text": [
      "0\n",
      "set()\n",
      "defaultdict(<function graph.__init__.<locals>.<lambda> at 0x110b4ed30>, {})\n"
     ]
    }
   ],
   "source": [
    "G = graph()\n",
    "G.print_state()"
   ]
  },
  {
   "cell_type": "code",
   "execution_count": 8,
   "metadata": {},
   "outputs": [
    {
     "name": "stdout",
     "output_type": "stream",
     "text": [
      "3\n",
      "{0, 1, 2}\n",
      "defaultdict(<function graph.__init__.<locals>.<lambda> at 0x110b4ed30>, {1: defaultdict(<class 'list'>, {2: [0.125], 0: [0.5]}), 2: defaultdict(<class 'list'>, {1: [0.125], 0: [0.25]}), 0: defaultdict(<class 'list'>, {1: [0.5], 2: [0.25]})})\n"
     ]
    }
   ],
   "source": [
    "G.add_edge([1,2,0.125])\n",
    "G.add_edge([0,1,0.5])\n",
    "G.add_edge([2,0,0.25])\n",
    "G.print_state()"
   ]
  },
  {
   "cell_type": "code",
   "execution_count": 9,
   "metadata": {},
   "outputs": [
    {
     "name": "stdout",
     "output_type": "stream",
     "text": [
      "4\n",
      "{0, 1, 2}\n",
      "defaultdict(<function graph.__init__.<locals>.<lambda> at 0x110b4ed30>, {1: defaultdict(<class 'list'>, {2: [0.125], 0: [0.5, 1]}), 2: defaultdict(<class 'list'>, {1: [0.125], 0: [0.25]}), 0: defaultdict(<class 'list'>, {1: [0.5, 1], 2: [0.25]})})\n"
     ]
    }
   ],
   "source": [
    "# parallel edge\n",
    "G.add_edge([1,0,1])\n",
    "G.print_state()"
   ]
  },
  {
   "cell_type": "code",
   "execution_count": 10,
   "metadata": {},
   "outputs": [
    {
     "name": "stdout",
     "output_type": "stream",
     "text": [
      "8\n",
      "{0, 1, 2, 3, 4}\n",
      "defaultdict(<function graph.__init__.<locals>.<lambda> at 0x110b4ed30>, {1: defaultdict(<class 'list'>, {2: [0.125], 0: [0.5, 1], 3: [2]}), 2: defaultdict(<class 'list'>, {1: [0.125], 0: [0.25], 3: [4], 4: [16]}), 0: defaultdict(<class 'list'>, {1: [0.5, 1], 2: [0.25]}), 3: defaultdict(<class 'list'>, {1: [2], 2: [4], 4: [8]}), 4: defaultdict(<class 'list'>, {3: [8], 2: [16]})})\n"
     ]
    }
   ],
   "source": [
    "G.add_edge([1,3,2])\n",
    "G.add_edge([3,2,4])\n",
    "G.add_edge([4,3,8])\n",
    "G.add_edge([4,2,16])\n",
    "G.print_state()"
   ]
  },
  {
   "cell_type": "code",
   "execution_count": 11,
   "metadata": {},
   "outputs": [
    {
     "data": {
      "text/plain": [
       "31.875"
      ]
     },
     "execution_count": 11,
     "metadata": {},
     "output_type": "execute_result"
    }
   ],
   "source": [
    "G.get_weight()"
   ]
  },
  {
   "cell_type": "code",
   "execution_count": 12,
   "metadata": {},
   "outputs": [
    {
     "name": "stdout",
     "output_type": "stream",
     "text": [
      "7\n",
      "{0, 1, 2, 3}\n",
      "defaultdict(<function graph.__init__.<locals>.<lambda> at 0x110b4ed30>, {1: defaultdict(<class 'list'>, {2: [0.125], 0: [0.5, 1], 3: [2]}), 2: defaultdict(<class 'list'>, {1: [0.125], 0: [0.25], 3: [4, 16]}), 0: defaultdict(<class 'list'>, {1: [0.5, 1], 2: [0.25]}), 3: defaultdict(<class 'list'>, {1: [2], 2: [4, 16]})})\n"
     ]
    }
   ],
   "source": [
    "G.contract_edges(4,3)\n",
    "G.print_state()"
   ]
  },
  {
   "cell_type": "code",
   "execution_count": 13,
   "metadata": {},
   "outputs": [
    {
     "data": {
      "text/plain": [
       "[3, 1]"
      ]
     },
     "execution_count": 13,
     "metadata": {},
     "output_type": "execute_result"
    }
   ],
   "source": [
    "G.sample_edge()"
   ]
  },
  {
   "cell_type": "code",
   "execution_count": 14,
   "metadata": {},
   "outputs": [
    {
     "name": "stdout",
     "output_type": "stream",
     "text": [
      "[3, 1]\n",
      "6\n",
      "{0, 1, 2}\n",
      "defaultdict(<function graph.__init__.<locals>.<lambda> at 0x110b4ed30>, {1: defaultdict(<class 'list'>, {2: [0.125, 4, 16], 0: [0.5, 1]}), 2: defaultdict(<class 'list'>, {1: [0.125, 4, 16], 0: [0.25]}), 0: defaultdict(<class 'list'>, {1: [0.5, 1], 2: [0.25]})})\n"
     ]
    }
   ],
   "source": [
    "sample = G.sample_edge()\n",
    "print(sample)\n",
    "G.contract_edges(sample[0], sample[1])\n",
    "G.print_state()"
   ]
  },
  {
   "cell_type": "code",
   "execution_count": 15,
   "metadata": {},
   "outputs": [
    {
     "name": "stdout",
     "output_type": "stream",
     "text": [
      "[0, 2]\n",
      "5\n",
      "{0, 1}\n",
      "defaultdict(<function graph.__init__.<locals>.<lambda> at 0x110b4ed30>, {1: defaultdict(<class 'list'>, {0: [0.5, 1, 0.125, 4, 16]}), 0: defaultdict(<class 'list'>, {1: [0.5, 1, 0.125, 4, 16]})})\n"
     ]
    }
   ],
   "source": [
    "sample = G.sample_edge()\n",
    "print(sample)\n",
    "G.contract_edges(sample[0], sample[1])\n",
    "G.print_state()"
   ]
  },
  {
   "cell_type": "code",
   "execution_count": 16,
   "metadata": {},
   "outputs": [
    {
     "data": {
      "text/plain": [
       "21.625"
      ]
     },
     "execution_count": 16,
     "metadata": {},
     "output_type": "execute_result"
    }
   ],
   "source": [
    "G.get_weight()"
   ]
  },
  {
   "cell_type": "markdown",
   "metadata": {},
   "source": [
    "### Karger's algorithm"
   ]
  },
  {
   "cell_type": "code",
   "execution_count": 17,
   "metadata": {},
   "outputs": [],
   "source": [
    "def contract(G_0):\n",
    "    # O(nm) time and O(m) memory, m = # edges\n",
    "    G = copy.deepcopy(G_0)\n",
    "    \n",
    "    # contract until only 2 nodes left\n",
    "    while len(G.nodes) > 2:\n",
    "        a,b = G.sample_edge()\n",
    "        G.contract_edges(a,b)\n",
    "        \n",
    "    return G.get_weight()\n",
    "\n",
    "def Karger(G):\n",
    "    # O(nm^3) time and O(m^2) memory, m = # edges\n",
    "    G.print_state()\n",
    "    \n",
    "    c = 3 # (P(fail) <= e^(-c))\n",
    "    m = G.size\n",
    "    ans = G.get_weight()\n",
    "    ans_list = []\n",
    "    \n",
    "    # repeat cm^2 times: contract until only 2 nodes left\n",
    "    # and return best output\n",
    "    for _ in range(c*(m**2)):\n",
    "        ans_list.append(contract(G))\n",
    "        ans = min(ans, ans_list[-1])\n",
    "        \n",
    "    return ans, ans_list"
   ]
  },
  {
   "cell_type": "markdown",
   "metadata": {},
   "source": [
    "### Tests"
   ]
  },
  {
   "cell_type": "markdown",
   "metadata": {},
   "source": [
    "#### INPUT 0"
   ]
  },
  {
   "cell_type": "code",
   "execution_count": 18,
   "metadata": {},
   "outputs": [
    {
     "name": "stdout",
     "output_type": "stream",
     "text": [
      "8\n",
      "{0, 1, 2, 3, 4}\n",
      "defaultdict(<function graph.__init__.<locals>.<lambda> at 0x110b76af0>, {1: defaultdict(<class 'list'>, {2: [0.125], 0: [0.5, 1], 3: [2]}), 2: defaultdict(<class 'list'>, {1: [0.125], 0: [0.25], 3: [4], 4: [16]}), 0: defaultdict(<class 'list'>, {1: [0.5, 1], 2: [0.25]}), 3: defaultdict(<class 'list'>, {1: [2], 2: [4], 4: [8]}), 4: defaultdict(<class 'list'>, {3: [8], 2: [16]})})\n"
     ]
    }
   ],
   "source": [
    "G = graph()\n",
    "\n",
    "G.add_edge([1,2,0.125])\n",
    "G.add_edge([0,1,0.5])\n",
    "G.add_edge([2,0,0.25])\n",
    "\n",
    "# parallel edge\n",
    "G.add_edge([1,0,1])\n",
    "\n",
    "G.add_edge([1,3,2])\n",
    "G.add_edge([3,2,4])\n",
    "G.add_edge([4,3,8])\n",
    "G.add_edge([4,2,16])\n",
    "G.print_state()"
   ]
  },
  {
   "cell_type": "code",
   "execution_count": 19,
   "metadata": {},
   "outputs": [
    {
     "name": "stdout",
     "output_type": "stream",
     "text": [
      "8\n",
      "{0, 1, 2, 3, 4}\n",
      "defaultdict(<function graph.__init__.<locals>.<lambda> at 0x110b76af0>, {1: defaultdict(<class 'list'>, {2: [0.125], 0: [0.5, 1], 3: [2]}), 2: defaultdict(<class 'list'>, {1: [0.125], 0: [0.25], 3: [4], 4: [16]}), 0: defaultdict(<class 'list'>, {1: [0.5, 1], 2: [0.25]}), 3: defaultdict(<class 'list'>, {1: [2], 2: [4], 4: [8]}), 4: defaultdict(<class 'list'>, {3: [8], 2: [16]})})\n"
     ]
    },
    {
     "data": {
      "text/plain": [
       "(1.75,\n",
       " [24.0,\n",
       "  24.0,\n",
       "  1.75,\n",
       "  24.0,\n",
       "  2.375,\n",
       "  14.0,\n",
       "  14.0,\n",
       "  20.375,\n",
       "  14.0,\n",
       "  14.0,\n",
       "  22.0,\n",
       "  20.375,\n",
       "  22.0,\n",
       "  14.0,\n",
       "  2.375,\n",
       "  1.75,\n",
       "  22.0,\n",
       "  12.375,\n",
       "  21.625,\n",
       "  24.0,\n",
       "  3.625,\n",
       "  1.75,\n",
       "  24.0,\n",
       "  24.0,\n",
       "  3.625,\n",
       "  3.625,\n",
       "  14.0,\n",
       "  24.0,\n",
       "  2.375,\n",
       "  20.375,\n",
       "  22.0,\n",
       "  3.625,\n",
       "  3.625,\n",
       "  1.75,\n",
       "  20.375,\n",
       "  24.0,\n",
       "  13.625,\n",
       "  22.0,\n",
       "  1.75,\n",
       "  2.375,\n",
       "  3.625,\n",
       "  2.375,\n",
       "  3.625,\n",
       "  22.0,\n",
       "  24.0,\n",
       "  13.625,\n",
       "  24.0,\n",
       "  20.375,\n",
       "  14.0,\n",
       "  1.75,\n",
       "  12.375,\n",
       "  3.625,\n",
       "  14.0,\n",
       "  2.375,\n",
       "  12.375,\n",
       "  21.625,\n",
       "  12.375,\n",
       "  22.0,\n",
       "  2.375,\n",
       "  21.625,\n",
       "  22.0,\n",
       "  3.625,\n",
       "  13.625,\n",
       "  22.0,\n",
       "  24.0,\n",
       "  22.0,\n",
       "  14.0,\n",
       "  1.75,\n",
       "  22.0,\n",
       "  22.0,\n",
       "  22.0,\n",
       "  24.0,\n",
       "  24.0,\n",
       "  1.75,\n",
       "  3.625,\n",
       "  1.75,\n",
       "  24.0,\n",
       "  24.0,\n",
       "  24.0,\n",
       "  2.375,\n",
       "  20.375,\n",
       "  1.75,\n",
       "  24.0,\n",
       "  24.0,\n",
       "  22.0,\n",
       "  1.75,\n",
       "  22.0,\n",
       "  1.75,\n",
       "  2.375,\n",
       "  1.75,\n",
       "  3.625,\n",
       "  2.375,\n",
       "  22.0,\n",
       "  1.75,\n",
       "  2.375,\n",
       "  12.375,\n",
       "  21.625,\n",
       "  14.0,\n",
       "  2.375,\n",
       "  13.625,\n",
       "  1.75,\n",
       "  21.625,\n",
       "  2.375,\n",
       "  12.375,\n",
       "  22.0,\n",
       "  3.625,\n",
       "  20.375,\n",
       "  21.625,\n",
       "  21.625,\n",
       "  2.375,\n",
       "  12.375,\n",
       "  14.0,\n",
       "  13.625,\n",
       "  1.75,\n",
       "  14.0,\n",
       "  20.375,\n",
       "  24.0,\n",
       "  14.0,\n",
       "  24.0,\n",
       "  22.0,\n",
       "  24.0,\n",
       "  21.625,\n",
       "  13.625,\n",
       "  2.375,\n",
       "  2.375,\n",
       "  20.375,\n",
       "  22.0,\n",
       "  22.0,\n",
       "  24.0,\n",
       "  1.75,\n",
       "  2.375,\n",
       "  14.0,\n",
       "  14.0,\n",
       "  24.0,\n",
       "  12.375,\n",
       "  1.75,\n",
       "  14.0,\n",
       "  24.0,\n",
       "  24.0,\n",
       "  12.375,\n",
       "  14.0,\n",
       "  24.0,\n",
       "  20.375,\n",
       "  22.0,\n",
       "  3.625,\n",
       "  20.375,\n",
       "  1.75,\n",
       "  1.75,\n",
       "  2.375,\n",
       "  1.75,\n",
       "  13.625,\n",
       "  24.0,\n",
       "  13.625,\n",
       "  22.0,\n",
       "  3.625,\n",
       "  12.375,\n",
       "  1.75,\n",
       "  24.0,\n",
       "  21.625,\n",
       "  24.0,\n",
       "  12.375,\n",
       "  24.0,\n",
       "  3.625,\n",
       "  24.0,\n",
       "  20.375,\n",
       "  12.375,\n",
       "  2.375,\n",
       "  24.0,\n",
       "  2.375,\n",
       "  2.375,\n",
       "  3.625,\n",
       "  21.625,\n",
       "  22.0,\n",
       "  3.625,\n",
       "  12.375,\n",
       "  3.625,\n",
       "  22.0,\n",
       "  14.0,\n",
       "  14.0,\n",
       "  12.375,\n",
       "  24.0,\n",
       "  22.0,\n",
       "  14.0,\n",
       "  21.625,\n",
       "  14.0,\n",
       "  12.375,\n",
       "  24.0,\n",
       "  2.375,\n",
       "  20.375,\n",
       "  14.0,\n",
       "  3.625,\n",
       "  12.375])"
      ]
     },
     "execution_count": 19,
     "metadata": {},
     "output_type": "execute_result"
    }
   ],
   "source": [
    "Karger(G)"
   ]
  },
  {
   "cell_type": "code",
   "execution_count": null,
   "metadata": {},
   "outputs": [],
   "source": []
  }
 ],
 "metadata": {
  "kernelspec": {
   "display_name": "Python 3",
   "language": "python",
   "name": "python3"
  },
  "language_info": {
   "codemirror_mode": {
    "name": "ipython",
    "version": 3
   },
   "file_extension": ".py",
   "mimetype": "text/x-python",
   "name": "python",
   "nbconvert_exporter": "python",
   "pygments_lexer": "ipython3",
   "version": "3.8.3"
  }
 },
 "nbformat": 4,
 "nbformat_minor": 4
}
